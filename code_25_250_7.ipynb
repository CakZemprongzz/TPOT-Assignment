{
 "cells": [
  {
   "cell_type": "code",
   "execution_count": null,
   "metadata": {},
   "outputs": [],
   "source": [
    "%pip install numpy scipy scikit-learn pandas joblib torch deap update_checker tqdm stopit xgboost \n",
    "%pip install dask[delayed] dask[dataframe] dask-ml \n",
    "%pip install scikit-mdr skrebate\n",
    "%pip install tpot\n",
    "%pip install seaborn matplotlib\n",
    "%pip install setuptools"
   ]
  },
  {
   "cell_type": "code",
   "execution_count": null,
   "metadata": {},
   "outputs": [],
   "source": [
    "import pandas as pd\n",
    "from scipy.io import arff\n",
    "\n",
    "# Load the ARFF file\n",
    "data, meta = arff.loadarff('dataset')\n",
    "\n",
    "# Convert it into a pandas DataFrame\n",
    "dataset = pd.DataFrame(data)\n",
    "\n",
    "# Display the first few rows of the DataFrame\n",
    "dataset.head()"
   ]
  },
  {
   "cell_type": "markdown",
   "metadata": {},
   "source": [
    "# Data Exploration"
   ]
  },
  {
   "cell_type": "code",
   "execution_count": null,
   "metadata": {},
   "outputs": [],
   "source": [
    "# Check for any null values in the filtered dataset\n",
    "null_data = dataset.isnull().sum()\n",
    "null_data"
   ]
  },
  {
   "cell_type": "code",
   "execution_count": null,
   "metadata": {},
   "outputs": [],
   "source": [
    "import seaborn as sns\n",
    "import matplotlib.pyplot as plt\n",
    "import numpy as np\n",
    "\n",
    "# Calculate the correlation matrix\n",
    "corr = dataset.corr()\n",
    "\n",
    "# Generate a heatmap\n",
    "plt.figure(figsize=(10, 8))\n",
    "sns.heatmap(corr, annot=True, fmt=\".2f\", cmap='coolwarm', cbar=True)\n",
    "plt.title('Correlation Heatmap of Diabetes Dataset')\n",
    "plt.show()"
   ]
  },
  {
   "cell_type": "code",
   "execution_count": null,
   "metadata": {},
   "outputs": [],
   "source": [
    "# Extract the correlation values against 'Outcome'\n",
    "outcome_corr = dataset.corr()['Outcome'].sort_values()\n",
    "\n",
    "# Display the correlation values\n",
    "outcome_corr"
   ]
  },
  {
   "cell_type": "code",
   "execution_count": null,
   "metadata": {},
   "outputs": [],
   "source": [
    "# Drop columns with correlation less than 0.15 against 'Outcome'\n",
    "filtered_dataset = dataset.drop(outcome_corr[outcome_corr < 0.15].index, axis=1)\n",
    "\n",
    "# Show the new dataframe information\n",
    "filtered_dataset.info(), filtered_dataset.head()"
   ]
  },
  {
   "cell_type": "code",
   "execution_count": null,
   "metadata": {},
   "outputs": [],
   "source": [
    "# Create box plots for each feature to identify outliers\n",
    "plt.figure(figsize=(12, 8))\n",
    "sns.boxplot(data=filtered_dataset.drop(columns=[\"Outcome\"]), palette=\"Set2\")\n",
    "plt.title('Box Plots for Numerical Features in the Diabetes Dataset')\n",
    "plt.xticks(rotation=45)  # Rotating the x labels for better visibility\n",
    "plt.show()"
   ]
  },
  {
   "cell_type": "code",
   "execution_count": null,
   "metadata": {},
   "outputs": [],
   "source": [
    "# Perform IQR capping on the previously filtered columns\n",
    "Q1 = filtered_dataset.quantile(0.25)\n",
    "Q3 = filtered_dataset.quantile(0.75)\n",
    "IQR = Q3 - Q1\n",
    "\n",
    "lower_bound = Q1 - 1.5 * IQR\n",
    "upper_bound = Q3 + 1.5 * IQR\n",
    "\n",
    "# Capping the outliers\n",
    "capped_dataset = filtered_dataset.apply(lambda x: np.where(x < lower_bound[x.name], lower_bound[x.name], x), axis=0)\n",
    "capped_dataset = capped_dataset.apply(lambda x: np.where(x > upper_bound[x.name], upper_bound[x.name], x), axis=0)\n",
    "\n",
    "# Provide basic descriptive statistics to compare the effect\n",
    "capped_dataset.describe()"
   ]
  },
  {
   "cell_type": "code",
   "execution_count": null,
   "metadata": {},
   "outputs": [],
   "source": [
    "# Create box plots for each feature to identify outliers\n",
    "plt.figure(figsize=(12, 8))\n",
    "sns.boxplot(data=capped_dataset.drop(columns=[\"Outcome\"]), palette=\"Set2\")\n",
    "plt.title('Box Plots for Numerical Features in the Diabetes Dataset')\n",
    "plt.xticks(rotation=45)  # Rotating the x labels for better visibility\n",
    "plt.show()"
   ]
  },
  {
   "cell_type": "code",
   "execution_count": null,
   "metadata": {},
   "outputs": [],
   "source": [
    "# Creating multiple scatter plots to visualize relationships between different variables\n",
    "fig, axs = plt.subplots(2, 2, figsize=(14, 12))\n",
    "\n",
    "# Plot 1: Glucose vs. Outcome\n",
    "sns.scatterplot(data=capped_dataset, x='Glucose', y='Outcome', ax=axs[0, 0], alpha=0.6)\n",
    "axs[0, 0].set_title('Glucose Levels vs. Diabetes Outcome')\n",
    "axs[0, 0].set_xlabel('Glucose')\n",
    "axs[0, 0].set_ylabel('Outcome (0 = No Diabetes, 1 = Diabetes)')\n",
    "\n",
    "# Plot 2: Age vs. Glucose\n",
    "sns.scatterplot(data=capped_dataset, x='Age', y='Glucose', ax=axs[0, 1], alpha=0.6)\n",
    "axs[0, 1].set_title('Age vs. Glucose Levels')\n",
    "axs[0, 1].set_xlabel('Age')\n",
    "axs[0, 1].set_ylabel('Glucose')\n",
    "\n",
    "# Plot 3: BMI vs. Glucose\n",
    "sns.scatterplot(data=capped_dataset, x='BMI', y='Glucose', ax=axs[1, 0], alpha=0.6)\n",
    "axs[1, 0].set_title('BMI vs. Glucose Levels')\n",
    "axs[1, 0].set_xlabel('BMI')\n",
    "axs[1, 0].set_ylabel('Glucose')\n",
    "\n",
    "# Plot 4: Pregnancies vs. Age\n",
    "sns.scatterplot(data=capped_dataset, x='Pregnancies', y='Age', ax=axs[1, 1], alpha=0.6)\n",
    "axs[1, 1].set_title('Pregnancies vs. Age')\n",
    "axs[1, 1].set_xlabel('Pregnancies')\n",
    "axs[1, 1].set_ylabel('Age')\n",
    "\n",
    "plt.tight_layout()\n",
    "plt.show()\n"
   ]
  },
  {
   "cell_type": "markdown",
   "metadata": {},
   "source": [
    "# TPOT Implementation"
   ]
  },
  {
   "cell_type": "code",
   "execution_count": null,
   "metadata": {},
   "outputs": [],
   "source": [
    "from sklearn.model_selection import train_test_split\n",
    "\n",
    "X = capped_dataset.drop('Outcome', axis=1)\n",
    "Y = capped_dataset['Outcome']\n",
    "\n",
    "X_train, X_test, y_train, y_test = train_test_split(X, Y, train_size=0.8, test_size=0.2)\n"
   ]
  },
  {
   "cell_type": "markdown",
   "metadata": {},
   "source": [
    "Parameters"
   ]
  },
  {
   "cell_type": "code",
   "execution_count": null,
   "metadata": {},
   "outputs": [],
   "source": [
    "generations=25\n",
    "population_size=250\n",
    "cv=10\n",
    "mutation_rate=0.7\n",
    "crossover_rate= (1.0 - mutation_rate)\n",
    "random_state=42\n",
    "verbosity=2\n",
    "warm_start=False\n",
    "n_jobs=12"
   ]
  },
  {
   "cell_type": "code",
   "execution_count": null,
   "metadata": {},
   "outputs": [],
   "source": [
    "# Printing values\n",
    "print(f\"Generations: {generations}\")\n",
    "print(f\"Population Size: {population_size}\")\n",
    "print(f\"CV Folds: {cv}\")\n",
    "print(f\"Mutation Rate: {mutation_rate}\")\n",
    "print(f\"Crossover Rate: {crossover_rate}\")\n",
    "print(f\"Random State: {random_state}\")\n",
    "print(f\"Verbosity Level: {verbosity}\")\n",
    "print(f\"Warm Start: {warm_start}\")\n",
    "print(f\"Number of Jobs: {n_jobs}\")"
   ]
  },
  {
   "cell_type": "code",
   "execution_count": null,
   "metadata": {},
   "outputs": [],
   "source": [
    "from tpot import TPOTClassifier\n",
    "\n",
    "pipeline_optimizer = TPOTClassifier(\n",
    "    generations=generations,\n",
    "    population_size=population_size,\n",
    "    cv=cv,\n",
    "    mutation_rate=mutation_rate,\n",
    "    crossover_rate=crossover_rate,\n",
    "    random_state=random_state,\n",
    "    verbosity=verbosity,\n",
    "    warm_start=warm_start,\n",
    "    n_jobs=n_jobs  \n",
    ")\n",
    "\n",
    "# Fit the model\n",
    "pipeline_optimizer.fit(X_train, y_train)\n",
    "\n",
    "# Print the score on the test set\n",
    "print(pipeline_optimizer.score(X_test, y_test))\n",
    "\n",
    "# Export the optimized pipeline to a Python script\n",
    "pipeline_optimizer.export('tpot_exported_pipeline_25_250_7.py')\n"
   ]
  }
 ],
 "metadata": {
  "kernelspec": {
   "display_name": ".venv",
   "language": "python",
   "name": "python3"
  },
  "language_info": {
   "codemirror_mode": {
    "name": "ipython",
    "version": 3
   },
   "file_extension": ".py",
   "mimetype": "text/x-python",
   "name": "python",
   "nbconvert_exporter": "python",
   "pygments_lexer": "ipython3",
   "version": "3.12.3"
  }
 },
 "nbformat": 4,
 "nbformat_minor": 2
}
